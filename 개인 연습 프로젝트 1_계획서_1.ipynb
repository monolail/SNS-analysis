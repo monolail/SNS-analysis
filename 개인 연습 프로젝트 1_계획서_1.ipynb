{
  "nbformat": 4,
  "nbformat_minor": 0,
  "metadata": {
    "colab": {
      "provenance": [],
      "collapsed_sections": []
    },
    "kernelspec": {
      "name": "python3",
      "display_name": "Python 3"
    },
    "language_info": {
      "name": "python"
    }
  },
  "cells": [
    {
      "cell_type": "markdown",
      "source": [
        "**주제**\n",
        "서울 관광 명소 알림이\n",
        "\n"
      ],
      "metadata": {
        "id": "9FmQtRKmywis"
      }
    },
    {
      "cell_type": "markdown",
      "source": [
        "(1) 주제 선정 이유 : 서울에 처음 놀러올 분들의 취향을 골라 적합한 관광명소를 알려주고 싶어서다."
      ],
      "metadata": {
        "id": "ViCPAn4x0vEb"
      }
    },
    {
      "cell_type": "markdown",
      "source": [
        "(2) 가설 정의: \n",
        "\n",
        "> 1. 프로그램은 실행 하면 처음으로 몇가지 키워드를 보여줄 것이다.\n",
        "\n",
        "\n",
        "\n",
        "> 2. 이용자의 need를 추린다.\n",
        "\n",
        "\n",
        "\n",
        "> 3. 추려진 장소에서 하고 싶은 활동에 가장 적합한 장소를 설명하거나 알려주는 사이트 그리고 시설들에 대한 글들을 여러가지 소개해 준다.\n",
        "\n",
        "\n",
        "\n",
        "> (예시) : 당신은 서울에서 무엇을 하고 싶은 가요? 1. 경치 구경 , 2. 한국 전통 문화 체험 ....기타 등등\n",
        "\n",
        "> (예시) : 1번 선택 ... 남산타워가 당신에게 적합하네요~ (남산타워 사진/주소/가는 방법)\n",
        "\n",
        "\n"
      ],
      "metadata": {
        "id": "cakSRJIl0xZp"
      }
    },
    {
      "cell_type": "markdown",
      "source": [
        "(3) 인터넷을 통한 데이터 획득:\n",
        "\n",
        "> 1. 첫 번째 명제는 따로 데이터가 필요없다. // 이유 - 프로그램이 지정해준 키워드만 사용할 것이기 때문이다.\n",
        "\n",
        "\n",
        "> 2. **정부 3.0 공공 데이터**와 **서울시 열린 데이터 광장**에서 가져온 서울 지역 관광 명소들(경복궁, 남산타워, 숭례문, 홍대 ...)\n",
        "\n",
        "> 3. 엑셀 파일을 이용하여 관련장소에 대한 정보를 제공해준다. or 관련 장소의 사진을 보여주면 시각적인 자료를 제공해준다.\n",
        "\n",
        "\n",
        "\n",
        "\n"
      ],
      "metadata": {
        "id": "NyRmuSN3LxwL"
      }
    },
    {
      "cell_type": "markdown",
      "source": [
        "...프로그램 제작중 "
      ],
      "metadata": {
        "id": "UPKQdckPM-rb"
      }
    }
  ]
}